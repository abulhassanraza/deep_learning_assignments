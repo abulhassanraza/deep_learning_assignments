{
  "nbformat": 4,
  "nbformat_minor": 0,
  "metadata": {
    "colab": {
      "name": "concrete_problen_assignment.ipynb",
      "provenance": [],
      "collapsed_sections": []
    },
    "kernelspec": {
      "name": "python3",
      "display_name": "Python 3"
    },
    "language_info": {
      "name": "python"
    }
  },
  "cells": [
    {
      "cell_type": "code",
      "metadata": {
        "id": "FUsGz0k82u1w"
      },
      "source": [
        "import numpy as np\n",
        "import pandas as pd\n",
        "import tensorflow as tf\n",
        "import seaborn as sns\n",
        "import matplotlib.pyplot as plt\n",
        "from tensorflow.keras.models import Sequential\n",
        "from tensorflow.keras.layers import Dense\n",
        "from tensorflow.keras.optimizers import Adam, SGD\n",
        "from sklearn.model_selection import cross_val_score\n",
        "from sklearn.model_selection import StratifiedKFold\n",
        "from keras.wrappers.scikit_learn import KerasClassifier\n",
        "from sklearn.preprocessing import StandardScaler"
      ],
      "execution_count": 5,
      "outputs": []
    },
    {
      "cell_type": "code",
      "metadata": {
        "id": "KyR8C-oR2-72"
      },
      "source": [
        "df = pd.read_csv('compresive_strength_concrete.csv')"
      ],
      "execution_count": 6,
      "outputs": []
    },
    {
      "cell_type": "code",
      "metadata": {
        "colab": {
          "base_uri": "https://localhost:8080/",
          "height": 255
        },
        "id": "6l5sT-ub3SrU",
        "outputId": "60ccdf6c-9f08-4204-eae6-c2115943f8e5"
      },
      "source": [
        "df.head()"
      ],
      "execution_count": 7,
      "outputs": [
        {
          "output_type": "execute_result",
          "data": {
            "text/html": [
              "<div>\n",
              "<style scoped>\n",
              "    .dataframe tbody tr th:only-of-type {\n",
              "        vertical-align: middle;\n",
              "    }\n",
              "\n",
              "    .dataframe tbody tr th {\n",
              "        vertical-align: top;\n",
              "    }\n",
              "\n",
              "    .dataframe thead th {\n",
              "        text-align: right;\n",
              "    }\n",
              "</style>\n",
              "<table border=\"1\" class=\"dataframe\">\n",
              "  <thead>\n",
              "    <tr style=\"text-align: right;\">\n",
              "      <th></th>\n",
              "      <th>Cement (component 1)(kg in a m^3 mixture)</th>\n",
              "      <th>Blast Furnace Slag (component 2)(kg in a m^3 mixture)</th>\n",
              "      <th>Fly Ash (component 3)(kg in a m^3 mixture)</th>\n",
              "      <th>Water  (component 4)(kg in a m^3 mixture)</th>\n",
              "      <th>Superplasticizer (component 5)(kg in a m^3 mixture)</th>\n",
              "      <th>Coarse Aggregate  (component 6)(kg in a m^3 mixture)</th>\n",
              "      <th>Fine Aggregate (component 7)(kg in a m^3 mixture)</th>\n",
              "      <th>Age (day)</th>\n",
              "      <th>Concrete compressive strength(MPa, megapascals)</th>\n",
              "    </tr>\n",
              "  </thead>\n",
              "  <tbody>\n",
              "    <tr>\n",
              "      <th>0</th>\n",
              "      <td>540.0</td>\n",
              "      <td>0.0</td>\n",
              "      <td>0.0</td>\n",
              "      <td>162.0</td>\n",
              "      <td>2.5</td>\n",
              "      <td>1040.0</td>\n",
              "      <td>676.0</td>\n",
              "      <td>28</td>\n",
              "      <td>79.99</td>\n",
              "    </tr>\n",
              "    <tr>\n",
              "      <th>1</th>\n",
              "      <td>540.0</td>\n",
              "      <td>0.0</td>\n",
              "      <td>0.0</td>\n",
              "      <td>162.0</td>\n",
              "      <td>2.5</td>\n",
              "      <td>1055.0</td>\n",
              "      <td>676.0</td>\n",
              "      <td>28</td>\n",
              "      <td>61.89</td>\n",
              "    </tr>\n",
              "    <tr>\n",
              "      <th>2</th>\n",
              "      <td>332.5</td>\n",
              "      <td>142.5</td>\n",
              "      <td>0.0</td>\n",
              "      <td>228.0</td>\n",
              "      <td>0.0</td>\n",
              "      <td>932.0</td>\n",
              "      <td>594.0</td>\n",
              "      <td>270</td>\n",
              "      <td>40.27</td>\n",
              "    </tr>\n",
              "    <tr>\n",
              "      <th>3</th>\n",
              "      <td>332.5</td>\n",
              "      <td>142.5</td>\n",
              "      <td>0.0</td>\n",
              "      <td>228.0</td>\n",
              "      <td>0.0</td>\n",
              "      <td>932.0</td>\n",
              "      <td>594.0</td>\n",
              "      <td>365</td>\n",
              "      <td>41.05</td>\n",
              "    </tr>\n",
              "    <tr>\n",
              "      <th>4</th>\n",
              "      <td>198.6</td>\n",
              "      <td>132.4</td>\n",
              "      <td>0.0</td>\n",
              "      <td>192.0</td>\n",
              "      <td>0.0</td>\n",
              "      <td>978.4</td>\n",
              "      <td>825.5</td>\n",
              "      <td>360</td>\n",
              "      <td>44.30</td>\n",
              "    </tr>\n",
              "  </tbody>\n",
              "</table>\n",
              "</div>"
            ],
            "text/plain": [
              "   Cement (component 1)(kg in a m^3 mixture)  ...  Concrete compressive strength(MPa, megapascals) \n",
              "0                                      540.0  ...                                             79.99\n",
              "1                                      540.0  ...                                             61.89\n",
              "2                                      332.5  ...                                             40.27\n",
              "3                                      332.5  ...                                             41.05\n",
              "4                                      198.6  ...                                             44.30\n",
              "\n",
              "[5 rows x 9 columns]"
            ]
          },
          "metadata": {
            "tags": []
          },
          "execution_count": 7
        }
      ]
    },
    {
      "cell_type": "code",
      "metadata": {
        "colab": {
          "base_uri": "https://localhost:8080/"
        },
        "id": "UGvvW4TS3YZL",
        "outputId": "d49af74d-8c33-4cfb-909a-335eee599af3"
      },
      "source": [
        "df.shape"
      ],
      "execution_count": 8,
      "outputs": [
        {
          "output_type": "execute_result",
          "data": {
            "text/plain": [
              "(1030, 9)"
            ]
          },
          "metadata": {
            "tags": []
          },
          "execution_count": 8
        }
      ]
    },
    {
      "cell_type": "code",
      "metadata": {
        "colab": {
          "base_uri": "https://localhost:8080/"
        },
        "id": "yw0kuo2e3aG7",
        "outputId": "caa41075-4743-479a-a9dc-9283ac85fe4a"
      },
      "source": [
        "df.columns"
      ],
      "execution_count": 9,
      "outputs": [
        {
          "output_type": "execute_result",
          "data": {
            "text/plain": [
              "Index(['Cement (component 1)(kg in a m^3 mixture)',\n",
              "       'Blast Furnace Slag (component 2)(kg in a m^3 mixture)',\n",
              "       'Fly Ash (component 3)(kg in a m^3 mixture)',\n",
              "       'Water  (component 4)(kg in a m^3 mixture)',\n",
              "       'Superplasticizer (component 5)(kg in a m^3 mixture)',\n",
              "       'Coarse Aggregate  (component 6)(kg in a m^3 mixture)',\n",
              "       'Fine Aggregate (component 7)(kg in a m^3 mixture)', 'Age (day)',\n",
              "       'Concrete compressive strength(MPa, megapascals) '],\n",
              "      dtype='object')"
            ]
          },
          "metadata": {
            "tags": []
          },
          "execution_count": 9
        }
      ]
    },
    {
      "cell_type": "code",
      "metadata": {
        "colab": {
          "base_uri": "https://localhost:8080/"
        },
        "id": "NKZcXqG13fDT",
        "outputId": "2a2ee248-dcb8-4388-b688-cf915fb77086"
      },
      "source": [
        "df.info()"
      ],
      "execution_count": 10,
      "outputs": [
        {
          "output_type": "stream",
          "text": [
            "<class 'pandas.core.frame.DataFrame'>\n",
            "RangeIndex: 1030 entries, 0 to 1029\n",
            "Data columns (total 9 columns):\n",
            " #   Column                                                 Non-Null Count  Dtype  \n",
            "---  ------                                                 --------------  -----  \n",
            " 0   Cement (component 1)(kg in a m^3 mixture)              1030 non-null   float64\n",
            " 1   Blast Furnace Slag (component 2)(kg in a m^3 mixture)  1030 non-null   float64\n",
            " 2   Fly Ash (component 3)(kg in a m^3 mixture)             1030 non-null   float64\n",
            " 3   Water  (component 4)(kg in a m^3 mixture)              1030 non-null   float64\n",
            " 4   Superplasticizer (component 5)(kg in a m^3 mixture)    1030 non-null   float64\n",
            " 5   Coarse Aggregate  (component 6)(kg in a m^3 mixture)   1030 non-null   float64\n",
            " 6   Fine Aggregate (component 7)(kg in a m^3 mixture)      1030 non-null   float64\n",
            " 7   Age (day)                                              1030 non-null   int64  \n",
            " 8   Concrete compressive strength(MPa, megapascals)        1030 non-null   float64\n",
            "dtypes: float64(8), int64(1)\n",
            "memory usage: 72.5 KB\n"
          ],
          "name": "stdout"
        }
      ]
    },
    {
      "cell_type": "code",
      "metadata": {
        "colab": {
          "base_uri": "https://localhost:8080/"
        },
        "id": "k8Evhq0G3mKD",
        "outputId": "2b9bcb44-29fc-4ba0-c473-f179aea09ae8"
      },
      "source": [
        "df.isnull().sum()"
      ],
      "execution_count": 11,
      "outputs": [
        {
          "output_type": "execute_result",
          "data": {
            "text/plain": [
              "Cement (component 1)(kg in a m^3 mixture)                0\n",
              "Blast Furnace Slag (component 2)(kg in a m^3 mixture)    0\n",
              "Fly Ash (component 3)(kg in a m^3 mixture)               0\n",
              "Water  (component 4)(kg in a m^3 mixture)                0\n",
              "Superplasticizer (component 5)(kg in a m^3 mixture)      0\n",
              "Coarse Aggregate  (component 6)(kg in a m^3 mixture)     0\n",
              "Fine Aggregate (component 7)(kg in a m^3 mixture)        0\n",
              "Age (day)                                                0\n",
              "Concrete compressive strength(MPa, megapascals)          0\n",
              "dtype: int64"
            ]
          },
          "metadata": {
            "tags": []
          },
          "execution_count": 11
        }
      ]
    },
    {
      "cell_type": "code",
      "metadata": {
        "id": "kGeG2lT73s_b"
      },
      "source": [
        "x = df.iloc[:,:8]\n",
        "y= df.iloc[:,-1]"
      ],
      "execution_count": 12,
      "outputs": []
    },
    {
      "cell_type": "code",
      "metadata": {
        "colab": {
          "base_uri": "https://localhost:8080/"
        },
        "id": "25UWDC9u5IaC",
        "outputId": "c7864ccb-e12d-4d3f-bf52-23425d4b2eac"
      },
      "source": [
        "st_data = StandardScaler()\n",
        "new_data = st_data.fit_transform(x)\n",
        "new_data"
      ],
      "execution_count": 13,
      "outputs": [
        {
          "output_type": "execute_result",
          "data": {
            "text/plain": [
              "array([[ 2.47791487, -0.85688789, -0.84714393, ...,  0.86315424,\n",
              "        -1.21767004, -0.27973311],\n",
              "       [ 2.47791487, -0.85688789, -0.84714393, ...,  1.05616419,\n",
              "        -1.21767004, -0.27973311],\n",
              "       [ 0.49142531,  0.79552649, -0.84714393, ..., -0.52651741,\n",
              "        -2.24091709,  3.55306569],\n",
              "       ...,\n",
              "       [-1.27008832,  0.75957923,  0.85063487, ..., -1.03606368,\n",
              "         0.0801067 , -0.27973311],\n",
              "       [-1.16860982,  1.30806485, -0.84714393, ...,  0.21464081,\n",
              "         0.19116644, -0.27973311],\n",
              "       [-0.19403325,  0.30849909,  0.3769452 , ..., -1.39506219,\n",
              "        -0.15074782, -0.27973311]])"
            ]
          },
          "metadata": {
            "tags": []
          },
          "execution_count": 13
        }
      ]
    },
    {
      "cell_type": "code",
      "metadata": {
        "id": "4gj_fYta6M2w"
      },
      "source": [
        "from sklearn.model_selection import train_test_split\n",
        "x_train, x_test, y_train, y_test = train_test_split(x , y, test_size = 0.20, random_state= 42,)"
      ],
      "execution_count": 14,
      "outputs": []
    },
    {
      "cell_type": "code",
      "metadata": {
        "id": "tW9YCBle6q4j"
      },
      "source": [
        "def model_build():\n",
        "  model = Sequential()\n",
        "  model.add(Dense(10, activation='tanh', input_shape=(8,)))\n",
        "  model.add(Dense(8, activation= 'relu'))\n",
        "  model.add(Dense(6, activation= 'relu'))\n",
        "  model.add(Dense(1))\n",
        "  return model"
      ],
      "execution_count": 15,
      "outputs": []
    },
    {
      "cell_type": "code",
      "metadata": {
        "id": "Vgq9_Lq67ZRa"
      },
      "source": [
        "network = model_build()"
      ],
      "execution_count": 16,
      "outputs": []
    },
    {
      "cell_type": "code",
      "metadata": {
        "id": "qQspULOB7z6o"
      },
      "source": [
        "network.compile(optimizer='rmsprop', loss= 'mean_squared_logarithmic_error', metrics='mae')"
      ],
      "execution_count": 17,
      "outputs": []
    },
    {
      "cell_type": "code",
      "metadata": {
        "colab": {
          "base_uri": "https://localhost:8080/"
        },
        "id": "t07hkHcR7_sr",
        "outputId": "0ef08972-2613-4901-821e-89743a8e058f"
      },
      "source": [
        "network.fit(x_train, y_train, epochs=100, batch_size=10, validation_split=0.2)"
      ],
      "execution_count": 21,
      "outputs": [
        {
          "output_type": "stream",
          "text": [
            "Epoch 1/100\n",
            "66/66 [==============================] - 0s 3ms/step - loss: 0.2901 - mae: 14.0254 - val_loss: 0.2231 - val_mae: 12.7927\n",
            "Epoch 2/100\n",
            "66/66 [==============================] - 0s 2ms/step - loss: 0.2900 - mae: 13.9775 - val_loss: 0.2235 - val_mae: 12.8390\n",
            "Epoch 3/100\n",
            "66/66 [==============================] - 0s 2ms/step - loss: 0.2901 - mae: 14.0243 - val_loss: 0.2230 - val_mae: 12.7804\n",
            "Epoch 4/100\n",
            "66/66 [==============================] - 0s 2ms/step - loss: 0.2899 - mae: 14.0101 - val_loss: 0.2228 - val_mae: 12.7539\n",
            "Epoch 5/100\n",
            "66/66 [==============================] - 0s 2ms/step - loss: 0.2901 - mae: 13.9536 - val_loss: 0.2236 - val_mae: 12.8455\n",
            "Epoch 6/100\n",
            "66/66 [==============================] - 0s 2ms/step - loss: 0.2900 - mae: 14.0165 - val_loss: 0.2232 - val_mae: 12.8075\n",
            "Epoch 7/100\n",
            "66/66 [==============================] - 0s 2ms/step - loss: 0.2901 - mae: 13.9701 - val_loss: 0.2235 - val_mae: 12.8343\n",
            "Epoch 8/100\n",
            "66/66 [==============================] - 0s 2ms/step - loss: 0.2901 - mae: 13.9766 - val_loss: 0.2244 - val_mae: 12.9077\n",
            "Epoch 9/100\n",
            "66/66 [==============================] - 0s 2ms/step - loss: 0.2901 - mae: 14.0420 - val_loss: 0.2232 - val_mae: 12.8075\n",
            "Epoch 10/100\n",
            "66/66 [==============================] - 0s 2ms/step - loss: 0.2901 - mae: 13.9345 - val_loss: 0.2244 - val_mae: 12.9085\n",
            "Epoch 11/100\n",
            "66/66 [==============================] - 0s 2ms/step - loss: 0.2899 - mae: 14.0121 - val_loss: 0.2237 - val_mae: 12.8497\n",
            "Epoch 12/100\n",
            "66/66 [==============================] - 0s 2ms/step - loss: 0.2895 - mae: 14.0097 - val_loss: 0.2224 - val_mae: 12.7060\n",
            "Epoch 13/100\n",
            "66/66 [==============================] - 0s 2ms/step - loss: 0.2900 - mae: 13.9492 - val_loss: 0.2226 - val_mae: 12.7254\n",
            "Epoch 14/100\n",
            "66/66 [==============================] - 0s 2ms/step - loss: 0.2901 - mae: 13.9462 - val_loss: 0.2237 - val_mae: 12.8514\n",
            "Epoch 15/100\n",
            "66/66 [==============================] - 0s 2ms/step - loss: 0.2893 - mae: 13.9110 - val_loss: 0.2259 - val_mae: 13.0037\n",
            "Epoch 16/100\n",
            "66/66 [==============================] - 0s 2ms/step - loss: 0.2903 - mae: 14.0266 - val_loss: 0.2254 - val_mae: 12.9768\n",
            "Epoch 17/100\n",
            "66/66 [==============================] - 0s 2ms/step - loss: 0.2889 - mae: 14.0483 - val_loss: 0.2223 - val_mae: 12.6751\n",
            "Epoch 18/100\n",
            "66/66 [==============================] - 0s 2ms/step - loss: 0.2903 - mae: 13.9547 - val_loss: 0.2230 - val_mae: 12.7889\n",
            "Epoch 19/100\n",
            "66/66 [==============================] - 0s 2ms/step - loss: 0.2901 - mae: 13.9725 - val_loss: 0.2233 - val_mae: 12.8137\n",
            "Epoch 20/100\n",
            "66/66 [==============================] - 0s 2ms/step - loss: 0.2900 - mae: 13.9765 - val_loss: 0.2232 - val_mae: 12.8090\n",
            "Epoch 21/100\n",
            "66/66 [==============================] - 0s 2ms/step - loss: 0.2900 - mae: 14.0102 - val_loss: 0.2227 - val_mae: 12.7494\n",
            "Epoch 22/100\n",
            "66/66 [==============================] - 0s 2ms/step - loss: 0.2898 - mae: 13.9258 - val_loss: 0.2229 - val_mae: 12.7682\n",
            "Epoch 23/100\n",
            "66/66 [==============================] - 0s 2ms/step - loss: 0.2899 - mae: 13.9461 - val_loss: 0.2242 - val_mae: 12.8961\n",
            "Epoch 24/100\n",
            "66/66 [==============================] - 0s 2ms/step - loss: 0.2900 - mae: 14.0156 - val_loss: 0.2231 - val_mae: 12.7942\n",
            "Epoch 25/100\n",
            "66/66 [==============================] - 0s 2ms/step - loss: 0.2901 - mae: 13.9565 - val_loss: 0.2239 - val_mae: 12.8727\n",
            "Epoch 26/100\n",
            "66/66 [==============================] - 0s 2ms/step - loss: 0.2901 - mae: 13.9933 - val_loss: 0.2236 - val_mae: 12.8419\n",
            "Epoch 27/100\n",
            "66/66 [==============================] - 0s 2ms/step - loss: 0.2899 - mae: 13.9311 - val_loss: 0.2244 - val_mae: 12.9123\n",
            "Epoch 28/100\n",
            "66/66 [==============================] - 0s 2ms/step - loss: 0.2901 - mae: 13.9491 - val_loss: 0.2242 - val_mae: 12.8943\n",
            "Epoch 29/100\n",
            "66/66 [==============================] - 0s 2ms/step - loss: 0.2897 - mae: 14.0293 - val_loss: 0.2230 - val_mae: 12.7777\n",
            "Epoch 30/100\n",
            "66/66 [==============================] - 0s 2ms/step - loss: 0.2902 - mae: 13.9474 - val_loss: 0.2238 - val_mae: 12.8608\n",
            "Epoch 31/100\n",
            "66/66 [==============================] - 0s 2ms/step - loss: 0.2900 - mae: 14.0196 - val_loss: 0.2240 - val_mae: 12.8798\n",
            "Epoch 32/100\n",
            "66/66 [==============================] - 0s 2ms/step - loss: 0.2901 - mae: 13.9941 - val_loss: 0.2238 - val_mae: 12.8585\n",
            "Epoch 33/100\n",
            "66/66 [==============================] - 0s 2ms/step - loss: 0.2900 - mae: 14.0110 - val_loss: 0.2235 - val_mae: 12.8343\n",
            "Epoch 34/100\n",
            "66/66 [==============================] - 0s 2ms/step - loss: 0.2899 - mae: 13.9850 - val_loss: 0.2232 - val_mae: 12.8102\n",
            "Epoch 35/100\n",
            "66/66 [==============================] - 0s 2ms/step - loss: 0.2899 - mae: 13.9807 - val_loss: 0.2235 - val_mae: 12.8340\n",
            "Epoch 36/100\n",
            "66/66 [==============================] - 0s 2ms/step - loss: 0.2900 - mae: 13.9759 - val_loss: 0.2238 - val_mae: 12.8652\n",
            "Epoch 37/100\n",
            "66/66 [==============================] - 0s 2ms/step - loss: 0.2901 - mae: 14.0208 - val_loss: 0.2232 - val_mae: 12.8049\n",
            "Epoch 38/100\n",
            "66/66 [==============================] - 0s 2ms/step - loss: 0.2901 - mae: 13.9677 - val_loss: 0.2236 - val_mae: 12.8464\n",
            "Epoch 39/100\n",
            "66/66 [==============================] - 0s 2ms/step - loss: 0.2898 - mae: 13.9970 - val_loss: 0.2232 - val_mae: 12.8078\n",
            "Epoch 40/100\n",
            "66/66 [==============================] - 0s 2ms/step - loss: 0.2898 - mae: 14.0091 - val_loss: 0.2227 - val_mae: 12.7370\n",
            "Epoch 41/100\n",
            "66/66 [==============================] - 0s 2ms/step - loss: 0.2891 - mae: 13.8652 - val_loss: 0.2269 - val_mae: 13.0605\n",
            "Epoch 42/100\n",
            "66/66 [==============================] - 0s 2ms/step - loss: 0.2901 - mae: 14.0323 - val_loss: 0.2250 - val_mae: 12.9497\n",
            "Epoch 43/100\n",
            "66/66 [==============================] - 0s 2ms/step - loss: 0.2900 - mae: 13.9554 - val_loss: 0.2253 - val_mae: 12.9707\n",
            "Epoch 44/100\n",
            "66/66 [==============================] - 0s 2ms/step - loss: 0.2900 - mae: 13.9734 - val_loss: 0.2252 - val_mae: 12.9609\n",
            "Epoch 45/100\n",
            "66/66 [==============================] - 0s 2ms/step - loss: 0.2900 - mae: 14.0210 - val_loss: 0.2234 - val_mae: 12.8215\n",
            "Epoch 46/100\n",
            "66/66 [==============================] - 0s 2ms/step - loss: 0.2900 - mae: 13.9874 - val_loss: 0.2232 - val_mae: 12.8035\n",
            "Epoch 47/100\n",
            "66/66 [==============================] - 0s 2ms/step - loss: 0.2899 - mae: 14.0012 - val_loss: 0.2230 - val_mae: 12.7858\n",
            "Epoch 48/100\n",
            "66/66 [==============================] - 0s 2ms/step - loss: 0.2902 - mae: 13.9587 - val_loss: 0.2233 - val_mae: 12.8141\n",
            "Epoch 49/100\n",
            "66/66 [==============================] - 0s 2ms/step - loss: 0.2900 - mae: 13.9870 - val_loss: 0.2234 - val_mae: 12.8308\n",
            "Epoch 50/100\n",
            "66/66 [==============================] - 0s 2ms/step - loss: 0.2899 - mae: 13.9900 - val_loss: 0.2241 - val_mae: 12.8845\n",
            "Epoch 51/100\n",
            "66/66 [==============================] - 0s 2ms/step - loss: 0.2899 - mae: 14.0097 - val_loss: 0.2233 - val_mae: 12.8191\n",
            "Epoch 52/100\n",
            "66/66 [==============================] - 0s 2ms/step - loss: 0.2897 - mae: 13.9858 - val_loss: 0.2234 - val_mae: 12.8244\n",
            "Epoch 53/100\n",
            "66/66 [==============================] - 0s 2ms/step - loss: 0.2893 - mae: 13.8660 - val_loss: 0.2263 - val_mae: 13.0263\n",
            "Epoch 54/100\n",
            "66/66 [==============================] - 0s 2ms/step - loss: 0.2903 - mae: 14.0578 - val_loss: 0.2246 - val_mae: 12.9208\n",
            "Epoch 55/100\n",
            "66/66 [==============================] - 0s 2ms/step - loss: 0.2898 - mae: 14.0359 - val_loss: 0.2230 - val_mae: 12.7790\n",
            "Epoch 56/100\n",
            "66/66 [==============================] - 0s 2ms/step - loss: 0.2898 - mae: 13.9209 - val_loss: 0.2250 - val_mae: 12.9496\n",
            "Epoch 57/100\n",
            "66/66 [==============================] - 0s 2ms/step - loss: 0.2899 - mae: 14.0131 - val_loss: 0.2237 - val_mae: 12.8510\n",
            "Epoch 58/100\n",
            "66/66 [==============================] - 0s 3ms/step - loss: 0.2901 - mae: 13.9253 - val_loss: 0.2246 - val_mae: 12.9207\n",
            "Epoch 59/100\n",
            "66/66 [==============================] - 0s 2ms/step - loss: 0.2900 - mae: 14.0193 - val_loss: 0.2235 - val_mae: 12.8367\n",
            "Epoch 60/100\n",
            "66/66 [==============================] - 0s 2ms/step - loss: 0.2898 - mae: 13.9885 - val_loss: 0.2237 - val_mae: 12.8510\n",
            "Epoch 61/100\n",
            "66/66 [==============================] - 0s 2ms/step - loss: 0.2900 - mae: 13.9443 - val_loss: 0.2243 - val_mae: 12.9021\n",
            "Epoch 62/100\n",
            "66/66 [==============================] - 0s 2ms/step - loss: 0.2900 - mae: 14.0449 - val_loss: 0.2234 - val_mae: 12.8249\n",
            "Epoch 63/100\n",
            "66/66 [==============================] - 0s 2ms/step - loss: 0.2901 - mae: 14.0244 - val_loss: 0.2233 - val_mae: 12.8177\n",
            "Epoch 64/100\n",
            "66/66 [==============================] - 0s 2ms/step - loss: 0.2901 - mae: 13.9636 - val_loss: 0.2240 - val_mae: 12.8757\n",
            "Epoch 65/100\n",
            "66/66 [==============================] - 0s 2ms/step - loss: 0.2899 - mae: 14.0139 - val_loss: 0.2234 - val_mae: 12.8300\n",
            "Epoch 66/100\n",
            "66/66 [==============================] - 0s 2ms/step - loss: 0.2896 - mae: 13.9036 - val_loss: 0.2255 - val_mae: 12.9824\n",
            "Epoch 67/100\n",
            "66/66 [==============================] - 0s 2ms/step - loss: 0.2900 - mae: 14.0148 - val_loss: 0.2235 - val_mae: 12.8356\n",
            "Epoch 68/100\n",
            "66/66 [==============================] - 0s 2ms/step - loss: 0.2899 - mae: 13.9853 - val_loss: 0.2241 - val_mae: 12.8838\n",
            "Epoch 69/100\n",
            "66/66 [==============================] - 0s 2ms/step - loss: 0.2899 - mae: 13.9631 - val_loss: 0.2248 - val_mae: 12.9337\n",
            "Epoch 70/100\n",
            "66/66 [==============================] - 0s 2ms/step - loss: 0.2900 - mae: 14.0314 - val_loss: 0.2235 - val_mae: 12.8339\n",
            "Epoch 71/100\n",
            "66/66 [==============================] - 0s 2ms/step - loss: 0.2899 - mae: 13.9922 - val_loss: 0.2236 - val_mae: 12.8444\n",
            "Epoch 72/100\n",
            "66/66 [==============================] - 0s 2ms/step - loss: 0.2900 - mae: 13.9739 - val_loss: 0.2231 - val_mae: 12.7956\n",
            "Epoch 73/100\n",
            "66/66 [==============================] - 0s 2ms/step - loss: 0.2900 - mae: 13.9698 - val_loss: 0.2237 - val_mae: 12.8548\n",
            "Epoch 74/100\n",
            "66/66 [==============================] - 0s 2ms/step - loss: 0.2900 - mae: 14.0053 - val_loss: 0.2234 - val_mae: 12.8302\n",
            "Epoch 75/100\n",
            "66/66 [==============================] - 0s 2ms/step - loss: 0.2897 - mae: 14.0050 - val_loss: 0.2228 - val_mae: 12.7527\n",
            "Epoch 76/100\n",
            "66/66 [==============================] - 0s 2ms/step - loss: 0.2901 - mae: 13.9338 - val_loss: 0.2243 - val_mae: 12.9009\n",
            "Epoch 77/100\n",
            "66/66 [==============================] - 0s 2ms/step - loss: 0.2900 - mae: 13.9926 - val_loss: 0.2241 - val_mae: 12.8847\n",
            "Epoch 78/100\n",
            "66/66 [==============================] - 0s 2ms/step - loss: 0.2900 - mae: 13.9439 - val_loss: 0.2241 - val_mae: 12.8852\n",
            "Epoch 79/100\n",
            "66/66 [==============================] - 0s 2ms/step - loss: 0.2898 - mae: 14.0001 - val_loss: 0.2230 - val_mae: 12.7830\n",
            "Epoch 80/100\n",
            "66/66 [==============================] - 0s 2ms/step - loss: 0.2894 - mae: 13.8541 - val_loss: 0.2257 - val_mae: 12.9950\n",
            "Epoch 81/100\n",
            "66/66 [==============================] - 0s 2ms/step - loss: 0.2900 - mae: 14.0023 - val_loss: 0.2249 - val_mae: 12.9414\n",
            "Epoch 82/100\n",
            "66/66 [==============================] - 0s 2ms/step - loss: 0.2899 - mae: 13.9663 - val_loss: 0.2251 - val_mae: 12.9570\n",
            "Epoch 83/100\n",
            "66/66 [==============================] - 0s 2ms/step - loss: 0.2900 - mae: 14.0133 - val_loss: 0.2240 - val_mae: 12.8754\n",
            "Epoch 84/100\n",
            "66/66 [==============================] - 0s 2ms/step - loss: 0.2899 - mae: 13.9963 - val_loss: 0.2233 - val_mae: 12.8153\n",
            "Epoch 85/100\n",
            "66/66 [==============================] - 0s 2ms/step - loss: 0.2894 - mae: 14.0176 - val_loss: 0.2231 - val_mae: 12.7916\n",
            "Epoch 86/100\n",
            "66/66 [==============================] - 0s 2ms/step - loss: 0.2898 - mae: 13.9602 - val_loss: 0.2237 - val_mae: 12.8549\n",
            "Epoch 87/100\n",
            "66/66 [==============================] - 0s 2ms/step - loss: 0.2900 - mae: 14.0037 - val_loss: 0.2231 - val_mae: 12.7984\n",
            "Epoch 88/100\n",
            "66/66 [==============================] - 0s 2ms/step - loss: 0.2899 - mae: 13.9599 - val_loss: 0.2241 - val_mae: 12.8874\n",
            "Epoch 89/100\n",
            "66/66 [==============================] - 0s 2ms/step - loss: 0.2899 - mae: 14.0118 - val_loss: 0.2233 - val_mae: 12.8208\n",
            "Epoch 90/100\n",
            "66/66 [==============================] - 0s 2ms/step - loss: 0.2899 - mae: 13.9913 - val_loss: 0.2230 - val_mae: 12.7858\n",
            "Epoch 91/100\n",
            "66/66 [==============================] - 0s 2ms/step - loss: 0.2897 - mae: 13.9662 - val_loss: 0.2229 - val_mae: 12.7672\n",
            "Epoch 92/100\n",
            "66/66 [==============================] - 0s 2ms/step - loss: 0.2893 - mae: 13.8682 - val_loss: 0.2256 - val_mae: 12.9864\n",
            "Epoch 93/100\n",
            "66/66 [==============================] - 0s 2ms/step - loss: 0.2899 - mae: 14.0106 - val_loss: 0.2253 - val_mae: 12.9682\n",
            "Epoch 94/100\n",
            "66/66 [==============================] - 0s 2ms/step - loss: 0.2897 - mae: 14.0129 - val_loss: 0.2232 - val_mae: 12.8036\n",
            "Epoch 95/100\n",
            "66/66 [==============================] - 0s 2ms/step - loss: 0.2900 - mae: 13.9896 - val_loss: 0.2229 - val_mae: 12.7657\n",
            "Epoch 96/100\n",
            "66/66 [==============================] - 0s 2ms/step - loss: 0.2898 - mae: 13.9609 - val_loss: 0.2225 - val_mae: 12.7128\n",
            "Epoch 97/100\n",
            "66/66 [==============================] - 0s 2ms/step - loss: 0.2898 - mae: 13.9272 - val_loss: 0.2244 - val_mae: 12.9055\n",
            "Epoch 98/100\n",
            "66/66 [==============================] - 0s 2ms/step - loss: 0.2895 - mae: 14.0364 - val_loss: 0.2226 - val_mae: 12.7329\n",
            "Epoch 99/100\n",
            "66/66 [==============================] - 0s 2ms/step - loss: 0.2896 - mae: 13.9031 - val_loss: 0.2252 - val_mae: 12.9620\n",
            "Epoch 100/100\n",
            "66/66 [==============================] - 0s 2ms/step - loss: 0.2900 - mae: 14.0380 - val_loss: 0.2240 - val_mae: 12.8778\n"
          ],
          "name": "stdout"
        },
        {
          "output_type": "execute_result",
          "data": {
            "text/plain": [
              "<tensorflow.python.keras.callbacks.History at 0x7f1b92aadc10>"
            ]
          },
          "metadata": {
            "tags": []
          },
          "execution_count": 21
        }
      ]
    },
    {
      "cell_type": "code",
      "metadata": {
        "colab": {
          "base_uri": "https://localhost:8080/"
        },
        "id": "nAS_C8hjmb8y",
        "outputId": "4e58d79c-b782-43c5-aa67-86122f33de41"
      },
      "source": [
        "network.evaluate(x_test, y_test)"
      ],
      "execution_count": 22,
      "outputs": [
        {
          "output_type": "stream",
          "text": [
            "7/7 [==============================] - 0s 2ms/step - loss: 0.2766 - mae: 13.4328\n"
          ],
          "name": "stdout"
        },
        {
          "output_type": "execute_result",
          "data": {
            "text/plain": [
              "[0.2765926420688629, 13.432842254638672]"
            ]
          },
          "metadata": {
            "tags": []
          },
          "execution_count": 22
        }
      ]
    },
    {
      "cell_type": "code",
      "metadata": {
        "id": "1lk1MPKLt9NA"
      },
      "source": [
        ""
      ],
      "execution_count": null,
      "outputs": []
    }
  ]
}